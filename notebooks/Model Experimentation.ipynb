{
 "cells": [
  {
   "cell_type": "code",
   "execution_count": 2,
   "metadata": {
    "pycharm": {
     "name": "#%%\n"
    },
    "tags": []
   },
   "outputs": [
    {
     "name": "stdout",
     "output_type": "stream",
     "text": [
      "pip3 install pipenv\n",
      "Collecting pipenv\n",
      "  Using cached pipenv-2022.7.4-py2.py3-none-any.whl (3.7 MB)\n",
      "Requirement already satisfied: setuptools>=36.2.1 in /usr/local/lib/python3.8/dist-packages (from pipenv) (62.2.0)\n",
      "Collecting virtualenv\n",
      "  Using cached virtualenv-20.15.1-py2.py3-none-any.whl (10.1 MB)\n",
      "Requirement already satisfied: certifi in /usr/lib/python3/dist-packages (from pipenv) (2019.11.28)\n",
      "Collecting virtualenv-clone>=0.2.5\n",
      "  Using cached virtualenv_clone-0.5.7-py3-none-any.whl (6.6 kB)\n",
      "Requirement already satisfied: pip>=22.0.4 in /usr/local/lib/python3.8/dist-packages (from pipenv) (22.1)\n",
      "Requirement already satisfied: six<2,>=1.9.0 in /usr/lib/python3/dist-packages (from virtualenv->pipenv) (1.14.0)\n",
      "Collecting platformdirs<3,>=2\n",
      "  Using cached platformdirs-2.5.2-py3-none-any.whl (14 kB)\n",
      "Collecting filelock<4,>=3.2\n",
      "  Using cached filelock-3.7.1-py3-none-any.whl (10 kB)\n",
      "Collecting distlib<1,>=0.3.1\n",
      "  Using cached distlib-0.3.5-py2.py3-none-any.whl (466 kB)\n",
      "Installing collected packages: distlib, virtualenv-clone, platformdirs, filelock, virtualenv, pipenv\n",
      "Successfully installed distlib-0.3.5 filelock-3.7.1 pipenv-2022.7.4 platformdirs-2.5.2 virtualenv-20.15.1 virtualenv-clone-0.5.7\n",
      "\u001B[33mWARNING: Running pip as the 'root' user can result in broken permissions and conflicting behaviour with the system package manager. It is recommended to use a virtual environment instead: https://pip.pypa.io/warnings/venv\u001B[0m\u001B[33m\n",
      "\u001B[0m\u001B[33mWARNING: There was an error checking the latest version of pip.\u001B[0m\u001B[33m\n",
      "\u001B[0mpipenv install\n",
      "\u001B[39m\u001B[1mInstalling dependencies from Pipfile.lock (bb774e)...\u001B[39m\u001B[22m\n",
      "  🐍   \u001B[32m\u001B[1m▉\u001B[39m\u001B[22m\u001B[32m\u001B[1m▉\u001B[39m\u001B[22m\u001B[32m\u001B[1m▉\u001B[39m\u001B[22m\u001B[32m\u001B[1m▉\u001B[39m\u001B[22m\u001B[32m\u001B[1m▉\u001B[39m\u001B[22m\u001B[32m\u001B[1m▉\u001B[39m\u001B[22m\u001B[32m\u001B[1m▉\u001B[39m\u001B[22m\u001B[32m\u001B[1m▉\u001B[39m\u001B[22m\u001B[32m\u001B[1m▉\u001B[39m\u001B[22m\u001B[32m\u001B[1m▉\u001B[39m\u001B[22m\u001B[32m\u001B[1m▉\u001B[39m\u001B[22m\u001B[32m\u001B[1m▉\u001B[39m\u001B[22m\u001B[32m\u001B[1m▉\u001B[39m\u001B[22m\u001B[32m\u001B[1m▉\u001B[39m\u001B[22m\u001B[32m\u001B[1m▉\u001B[39m\u001B[22m\u001B[32m\u001B[1m▉\u001B[39m\u001B[22m\u001B[32m\u001B[1m▉\u001B[39m\u001B[22m\u001B[32m\u001B[1m▉\u001B[39m\u001B[22m\u001B[32m\u001B[1m▉\u001B[39m\u001B[22m\u001B[32m\u001B[1m▉\u001B[39m\u001B[22m\u001B[32m\u001B[1m▉\u001B[39m\u001B[22m\u001B[32m\u001B[1m▉\u001B[39m\u001B[22m\u001B[32m\u001B[1m▉\u001B[39m\u001B[22m\u001B[32m\u001B[1m▉\u001B[39m\u001B[22m\u001B[32m\u001B[1m▉\u001B[39m\u001B[22m\u001B[32m\u001B[1m▉\u001B[39m\u001B[22m\u001B[32m\u001B[1m▉\u001B[39m\u001B[22m\u001B[32m\u001B[1m▉\u001B[39m\u001B[22m\u001B[32m\u001B[1m▉\u001B[39m\u001B[22m\u001B[32m\u001B[1m▉\u001B[39m\u001B[22m\u001B[32m\u001B[1m▉\u001B[39m\u001B[22m\u001B[32m\u001B[1m▉\u001B[39m\u001B[22m 0/0 — \u001B[30m\u001B[22m00:00:00\u001B[39m\u001B[22m\n",
      "To activate this project's virtualenv, run \u001B[33m\u001B[22mpipenv shell\u001B[39m\u001B[22m.\n",
      "Alternatively, run a command inside the virtualenv with \u001B[33m\u001B[22mpipenv run\u001B[39m\u001B[22m.\n",
      "\u001B[0mpipenv lock -r > /tmp/pipenv-requirements.txt\n",
      "\u001B[33mWarning: The lock flag -r/--requirements will be deprecated in a future version\n",
      "of pipenv in favor of the new requirements command. For more info see\n",
      "https://pipenv.pypa.io/en/latest/advanced/#generating-a-requirements-txt\n",
      "NOTE: the requirements command parses Pipfile.lock directly without performing any\n",
      "locking operations. Updating packages should be done by running pipenv lock.\u001B[0m\n",
      "pip3 install -r /tmp/pipenv-requirements.txt\n",
      "Collecting absl-py==1.2.0\n",
      "  Using cached absl_py-1.2.0-py3-none-any.whl (123 kB)\n",
      "Collecting albumentations==1.2.1\n",
      "  Using cached albumentations-1.2.1-py3-none-any.whl (116 kB)\n",
      "Collecting alembic==1.8.1\n",
      "  Using cached alembic-1.8.1-py3-none-any.whl (209 kB)\n",
      "Collecting antlr4-python3-runtime==4.9.3\n",
      "  Using cached antlr4_python3_runtime-4.9.3-py3-none-any.whl\n",
      "Requirement already satisfied: argon2-cffi-bindings==21.2.0 in /usr/local/lib/python3.8/dist-packages (from -r /tmp/pipenv-requirements.txt (line 13)) (21.2.0)\n",
      "Requirement already satisfied: argon2-cffi==21.3.0 in /usr/local/lib/python3.8/dist-packages (from -r /tmp/pipenv-requirements.txt (line 14)) (21.3.0)\n",
      "Requirement already satisfied: asttokens==2.0.5 in /usr/local/lib/python3.8/dist-packages (from -r /tmp/pipenv-requirements.txt (line 15)) (2.0.5)\n",
      "Requirement already satisfied: astunparse==1.6.3 in /usr/local/lib/python3.8/dist-packages (from -r /tmp/pipenv-requirements.txt (line 16)) (1.6.3)\n",
      "Requirement already satisfied: attrs==21.4.0 in /usr/local/lib/python3.8/dist-packages (from -r /tmp/pipenv-requirements.txt (line 17)) (21.4.0)\n",
      "Collecting autopage==0.5.1\n",
      "  Using cached autopage-0.5.1-py3-none-any.whl (29 kB)\n",
      "Requirement already satisfied: backcall==0.2.0 in /usr/local/lib/python3.8/dist-packages (from -r /tmp/pipenv-requirements.txt (line 19)) (0.2.0)\n",
      "Requirement already satisfied: beautifulsoup4==4.11.1 in /usr/local/lib/python3.8/dist-packages (from -r /tmp/pipenv-requirements.txt (line 20)) (4.11.1)\n",
      "Collecting bleach==5.0.1\n",
      "  Using cached bleach-5.0.1-py3-none-any.whl (160 kB)\n",
      "Collecting boto3==1.24.34\n",
      "  Using cached boto3-1.24.34-py3-none-any.whl (132 kB)\n",
      "Collecting botocore==1.27.34\n",
      "  Using cached botocore-1.27.34-py3-none-any.whl (9.0 MB)\n",
      "Collecting cachetools==5.2.0\n",
      "  Using cached cachetools-5.2.0-py3-none-any.whl (9.3 kB)\n",
      "Collecting certifi==2022.6.15\n",
      "  Using cached certifi-2022.6.15-py3-none-any.whl (160 kB)\n",
      "Collecting cffi==1.15.1\n",
      "  Using cached cffi-1.15.1-cp38-cp38-manylinux_2_17_x86_64.manylinux2014_x86_64.whl (442 kB)\n",
      "Collecting charset-normalizer==2.1.0\n",
      "  Using cached charset_normalizer-2.1.0-py3-none-any.whl (39 kB)\n",
      "Collecting cliff==3.10.1\n",
      "  Using cached cliff-3.10.1-py3-none-any.whl (81 kB)\n",
      "Collecting cloudpickle==2.1.0\n",
      "  Using cached cloudpickle-2.1.0-py3-none-any.whl (25 kB)\n",
      "Collecting cmaes==0.8.2\n",
      "  Using cached cmaes-0.8.2-py3-none-any.whl (15 kB)\n",
      "Collecting cmd2==2.4.2\n",
      "  Using cached cmd2-2.4.2-py3-none-any.whl (147 kB)\n",
      "Collecting colorlog==6.6.0\n",
      "  Using cached colorlog-6.6.0-py2.py3-none-any.whl (11 kB)\n",
      "Requirement already satisfied: cycler==0.11.0 in /usr/local/lib/python3.8/dist-packages (from -r /tmp/pipenv-requirements.txt (line 33)) (0.11.0)\n",
      "Collecting debugpy==1.6.2\n",
      "  Using cached debugpy-1.6.2-cp38-cp38-manylinux_2_5_x86_64.manylinux1_x86_64.manylinux_2_12_x86_64.manylinux2010_x86_64.whl (1.8 MB)\n",
      "Requirement already satisfied: decorator==5.1.1 in /usr/local/lib/python3.8/dist-packages (from -r /tmp/pipenv-requirements.txt (line 35)) (5.1.1)\n",
      "Requirement already satisfied: defusedxml==0.7.1 in /usr/local/lib/python3.8/dist-packages (from -r /tmp/pipenv-requirements.txt (line 36)) (0.7.1)\n",
      "Collecting dm-tree==0.1.7\n",
      "  Using cached dm_tree-0.1.7-cp38-cp38-manylinux_2_12_x86_64.manylinux2010_x86_64.whl (142 kB)\n",
      "Requirement already satisfied: entrypoints==0.4 in /usr/local/lib/python3.8/dist-packages (from -r /tmp/pipenv-requirements.txt (line 38)) (0.4)\n",
      "Requirement already satisfied: executing==0.8.3 in /usr/local/lib/python3.8/dist-packages (from -r /tmp/pipenv-requirements.txt (line 39)) (0.8.3)\n",
      "Collecting fastjsonschema==2.16.1\n",
      "  Using cached fastjsonschema-2.16.1-py3-none-any.whl (22 kB)\n",
      "Requirement already satisfied: flatbuffers==2.0 in /usr/local/lib/python3.8/dist-packages (from -r /tmp/pipenv-requirements.txt (line 41)) (2.0)\n",
      "Collecting fonttools==4.34.4\n",
      "  Using cached fonttools-4.34.4-py3-none-any.whl (944 kB)\n",
      "Collecting gast==0.5.3\n",
      "  Using cached gast-0.5.3-py3-none-any.whl (19 kB)\n",
      "Requirement already satisfied: google-auth-oauthlib==0.4.6 in /usr/local/lib/python3.8/dist-packages (from -r /tmp/pipenv-requirements.txt (line 44)) (0.4.6)\n",
      "Collecting google-auth==2.9.1\n",
      "  Using cached google_auth-2.9.1-py2.py3-none-any.whl (167 kB)\n",
      "Requirement already satisfied: google-pasta==0.2.0 in /usr/local/lib/python3.8/dist-packages (from -r /tmp/pipenv-requirements.txt (line 46)) (0.2.0)\n",
      "Collecting greenlet==1.1.2\n",
      "  Using cached greenlet-1.1.2-cp38-cp38-manylinux_2_17_x86_64.manylinux2014_x86_64.whl (156 kB)\n",
      "Collecting grpcio==1.47.0\n",
      "  Using cached grpcio-1.47.0-cp38-cp38-manylinux_2_17_x86_64.manylinux2014_x86_64.whl (4.5 MB)\n",
      "Collecting h5py==3.7.0\n",
      "  Using cached h5py-3.7.0-cp38-cp38-manylinux_2_12_x86_64.manylinux2010_x86_64.whl (4.5 MB)\n",
      "Collecting hydra-core==1.2.0\n",
      "  Using cached hydra_core-1.2.0-py3-none-any.whl (151 kB)\n",
      "Collecting idna==3.3\n",
      "  Using cached idna-3.3-py3-none-any.whl (61 kB)\n",
      "Collecting imageio==2.19.5\n",
      "  Using cached imageio-2.19.5-py3-none-any.whl (3.4 MB)\n",
      "Collecting importlib-metadata==4.12.0\n",
      "  Using cached importlib_metadata-4.12.0-py3-none-any.whl (21 kB)\n",
      "Collecting importlib-resources==5.8.0\n",
      "  Using cached importlib_resources-5.8.0-py3-none-any.whl (28 kB)\n",
      "Collecting ipykernel==6.15.1\n",
      "  Using cached ipykernel-6.15.1-py3-none-any.whl (132 kB)\n",
      "Requirement already satisfied: ipython-genutils==0.2.0 in /usr/local/lib/python3.8/dist-packages (from -r /tmp/pipenv-requirements.txt (line 56)) (0.2.0)\n",
      "Collecting ipython==8.4.0\n",
      "  Using cached ipython-8.4.0-py3-none-any.whl (750 kB)\n",
      "Collecting jedi==0.18.1\n",
      "  Using cached jedi-0.18.1-py2.py3-none-any.whl (1.6 MB)\n",
      "Requirement already satisfied: jinja2==3.1.2 in /usr/local/lib/python3.8/dist-packages (from -r /tmp/pipenv-requirements.txt (line 59)) (3.1.2)\n",
      "Collecting jmespath==1.0.1\n",
      "  Using cached jmespath-1.0.1-py3-none-any.whl (20 kB)\n",
      "Requirement already satisfied: joblib==1.1.0 in /usr/local/lib/python3.8/dist-packages (from -r /tmp/pipenv-requirements.txt (line 61)) (1.1.0)\n",
      "Collecting jsonschema==4.7.2\n",
      "  Using cached jsonschema-4.7.2-py3-none-any.whl (81 kB)\n",
      "Collecting jupyter-client==7.3.4\n",
      "  Using cached jupyter_client-7.3.4-py3-none-any.whl (132 kB)\n",
      "Collecting jupyter-core==4.11.1\n",
      "  Using cached jupyter_core-4.11.1-py3-none-any.whl (88 kB)\n",
      "Requirement already satisfied: jupyterlab-pygments==0.2.2 in /usr/local/lib/python3.8/dist-packages (from -r /tmp/pipenv-requirements.txt (line 65)) (0.2.2)\n",
      "Requirement already satisfied: keras-preprocessing==1.1.2 in /usr/local/lib/python3.8/dist-packages (from -r /tmp/pipenv-requirements.txt (line 66)) (1.1.2)\n",
      "Collecting keras==2.8.0\n",
      "  Using cached keras-2.8.0-py2.py3-none-any.whl (1.4 MB)\n",
      "Collecting kiwisolver==1.4.4\n",
      "  Using cached kiwisolver-1.4.4-cp38-cp38-manylinux_2_5_x86_64.manylinux1_x86_64.whl (1.2 MB)\n",
      "Requirement already satisfied: libclang==14.0.1 in /usr/local/lib/python3.8/dist-packages (from -r /tmp/pipenv-requirements.txt (line 69)) (14.0.1)\n",
      "Collecting mako==1.2.1\n",
      "  Using cached Mako-1.2.1-py3-none-any.whl (78 kB)\n",
      "Collecting markdown==3.4.1\n",
      "  Using cached Markdown-3.4.1-py3-none-any.whl (93 kB)\n",
      "Requirement already satisfied: markupsafe==2.1.1 in /usr/local/lib/python3.8/dist-packages (from -r /tmp/pipenv-requirements.txt (line 72)) (2.1.1)\n",
      "Requirement already satisfied: matplotlib-inline==0.1.3 in /usr/local/lib/python3.8/dist-packages (from -r /tmp/pipenv-requirements.txt (line 73)) (0.1.3)\n",
      "Requirement already satisfied: matplotlib==3.5.2 in /usr/local/lib/python3.8/dist-packages (from -r /tmp/pipenv-requirements.txt (line 74)) (3.5.2)\n",
      "Requirement already satisfied: mistune==0.8.4 in /usr/local/lib/python3.8/dist-packages (from -r /tmp/pipenv-requirements.txt (line 75)) (0.8.4)\n",
      "Collecting nbclient==0.6.6\n",
      "  Using cached nbclient-0.6.6-py3-none-any.whl (71 kB)\n",
      "Requirement already satisfied: nbconvert==6.5.0 in /usr/local/lib/python3.8/dist-packages (from -r /tmp/pipenv-requirements.txt (line 77)) (6.5.0)\n",
      "Collecting nbformat==5.4.0\n",
      "  Using cached nbformat-5.4.0-py3-none-any.whl (73 kB)\n",
      "Requirement already satisfied: nest-asyncio==1.5.5 in /usr/local/lib/python3.8/dist-packages (from -r /tmp/pipenv-requirements.txt (line 79)) (1.5.5)\n",
      "Collecting networkx==2.8.5\n",
      "  Using cached networkx-2.8.5-py3-none-any.whl (2.0 MB)\n",
      "Collecting notebook==6.4.12\n",
      "  Using cached notebook-6.4.12-py3-none-any.whl (9.9 MB)\n",
      "Collecting numpy==1.23.1\n",
      "  Using cached numpy-1.23.1-cp38-cp38-manylinux_2_17_x86_64.manylinux2014_x86_64.whl (17.1 MB)\n",
      "Requirement already satisfied: oauthlib==3.2.0 in /usr/local/lib/python3.8/dist-packages (from -r /tmp/pipenv-requirements.txt (line 83)) (3.2.0)\n",
      "Collecting omegaconf==2.2.2\n",
      "  Using cached omegaconf-2.2.2-py3-none-any.whl (79 kB)\n",
      "Collecting opencv-python-headless==4.6.0.66\n",
      "  Using cached opencv_python_headless-4.6.0.66-cp36-abi3-manylinux_2_17_x86_64.manylinux2014_x86_64.whl (48.3 MB)\n",
      "Requirement already satisfied: opt-einsum==3.3.0 in /usr/local/lib/python3.8/dist-packages (from -r /tmp/pipenv-requirements.txt (line 86)) (3.3.0)\n",
      "Collecting optuna==2.10.1\n",
      "  Using cached optuna-2.10.1-py3-none-any.whl (308 kB)\n",
      "Requirement already satisfied: packaging==21.3 in /usr/local/lib/python3.8/dist-packages (from -r /tmp/pipenv-requirements.txt (line 88)) (21.3)\n",
      "Collecting pandas==1.4.3\n",
      "  Using cached pandas-1.4.3-cp38-cp38-manylinux_2_17_x86_64.manylinux2014_x86_64.whl (11.7 MB)\n",
      "Requirement already satisfied: pandocfilters==1.5.0 in /usr/local/lib/python3.8/dist-packages (from -r /tmp/pipenv-requirements.txt (line 90)) (1.5.0)\n",
      "Collecting parso==0.8.3\n",
      "  Using cached parso-0.8.3-py2.py3-none-any.whl (100 kB)\n",
      "Collecting pbr==5.9.0\n",
      "  Using cached pbr-5.9.0-py2.py3-none-any.whl (112 kB)\n",
      "Collecting pdoc3==0.10.0\n",
      "  Using cached pdoc3-0.10.0-py3-none-any.whl (135 kB)\n",
      "Requirement already satisfied: pexpect==4.8.0 in /usr/local/lib/python3.8/dist-packages (from -r /tmp/pipenv-requirements.txt (line 94)) (4.8.0)\n",
      "Requirement already satisfied: pickleshare==0.7.5 in /usr/local/lib/python3.8/dist-packages (from -r /tmp/pipenv-requirements.txt (line 95)) (0.7.5)\n",
      "Collecting pillow==9.2.0\n",
      "  Using cached Pillow-9.2.0-cp38-cp38-manylinux_2_28_x86_64.whl (3.2 MB)\n",
      "Collecting prettytable==3.3.0\n",
      "  Using cached prettytable-3.3.0-py3-none-any.whl (26 kB)\n",
      "Requirement already satisfied: prometheus-client==0.14.1 in /usr/local/lib/python3.8/dist-packages (from -r /tmp/pipenv-requirements.txt (line 98)) (0.14.1)\n",
      "Collecting prompt-toolkit==3.0.30\n",
      "  Using cached prompt_toolkit-3.0.30-py3-none-any.whl (381 kB)\n",
      "Collecting protobuf==3.20\n",
      "  Using cached protobuf-3.20.0-cp38-cp38-manylinux_2_5_x86_64.manylinux1_x86_64.whl (1.0 MB)\n",
      "Collecting psutil==5.9.1\n",
      "  Using cached psutil-5.9.1-cp38-cp38-manylinux_2_12_x86_64.manylinux2010_x86_64.manylinux_2_17_x86_64.manylinux2014_x86_64.whl (284 kB)\n",
      "Requirement already satisfied: ptyprocess==0.7.0 in /usr/local/lib/python3.8/dist-packages (from -r /tmp/pipenv-requirements.txt (line 102)) (0.7.0)\n",
      "Requirement already satisfied: pure-eval==0.2.2 in /usr/local/lib/python3.8/dist-packages (from -r /tmp/pipenv-requirements.txt (line 103)) (0.2.2)\n",
      "Collecting pyarrow==8.0.0\n",
      "  Using cached pyarrow-8.0.0-cp38-cp38-manylinux_2_17_x86_64.manylinux2014_x86_64.whl (29.4 MB)\n",
      "Requirement already satisfied: pyasn1-modules==0.2.8 in /usr/local/lib/python3.8/dist-packages (from -r /tmp/pipenv-requirements.txt (line 105)) (0.2.8)\n",
      "Requirement already satisfied: pyasn1==0.4.8 in /usr/local/lib/python3.8/dist-packages (from -r /tmp/pipenv-requirements.txt (line 106)) (0.4.8)\n",
      "Requirement already satisfied: pycparser==2.21 in /usr/local/lib/python3.8/dist-packages (from -r /tmp/pipenv-requirements.txt (line 107)) (2.21)\n",
      "Requirement already satisfied: pygments==2.12.0 in /usr/local/lib/python3.8/dist-packages (from -r /tmp/pipenv-requirements.txt (line 108)) (2.12.0)\n",
      "Requirement already satisfied: pyparsing==3.0.9 in /usr/local/lib/python3.8/dist-packages (from -r /tmp/pipenv-requirements.txt (line 109)) (3.0.9)\n",
      "Collecting pyperclip==1.8.2\n",
      "  Using cached pyperclip-1.8.2-py3-none-any.whl\n",
      "Requirement already satisfied: pyrsistent==0.18.1 in /usr/local/lib/python3.8/dist-packages (from -r /tmp/pipenv-requirements.txt (line 111)) (0.18.1)\n",
      "Requirement already satisfied: python-dateutil==2.8.2 in /usr/local/lib/python3.8/dist-packages (from -r /tmp/pipenv-requirements.txt (line 112)) (2.8.2)\n",
      "Collecting pytz==2022.1\n",
      "  Using cached pytz-2022.1-py2.py3-none-any.whl (503 kB)\n",
      "Collecting pywavelets==1.3.0\n",
      "  Using cached PyWavelets-1.3.0-cp38-cp38-manylinux_2_17_x86_64.manylinux2014_x86_64.whl (6.9 MB)\n",
      "Collecting pyyaml==6.0\n",
      "  Using cached PyYAML-6.0-cp38-cp38-manylinux_2_5_x86_64.manylinux1_x86_64.manylinux_2_12_x86_64.manylinux2010_x86_64.whl (701 kB)\n",
      "Collecting pyzmq==23.2.0\n",
      "  Using cached pyzmq-23.2.0-cp38-cp38-manylinux_2_12_x86_64.manylinux2010_x86_64.whl (1.1 MB)\n",
      "Collecting qudida==0.0.4\n",
      "  Using cached qudida-0.0.4-py3-none-any.whl (3.5 kB)\n",
      "Requirement already satisfied: requests-oauthlib==1.3.1 in /usr/local/lib/python3.8/dist-packages (from -r /tmp/pipenv-requirements.txt (line 118)) (1.3.1)\n",
      "Collecting requests==2.28.1\n",
      "  Using cached requests-2.28.1-py3-none-any.whl (62 kB)\n",
      "Collecting rsa==4.9\n",
      "  Using cached rsa-4.9-py3-none-any.whl (34 kB)\n",
      "Collecting s3transfer==0.6.0\n",
      "  Using cached s3transfer-0.6.0-py3-none-any.whl (79 kB)\n",
      "Collecting scikit-image==0.19.3\n",
      "  Using cached scikit_image-0.19.3-cp38-cp38-manylinux_2_17_x86_64.manylinux2014_x86_64.whl (14.0 MB)\n",
      "Collecting scikit-learn==1.1.1\n",
      "  Using cached scikit_learn-1.1.1-cp38-cp38-manylinux_2_17_x86_64.manylinux2014_x86_64.whl (31.2 MB)\n",
      "Requirement already satisfied: scipy==1.8.1 in /usr/local/lib/python3.8/dist-packages (from -r /tmp/pipenv-requirements.txt (line 124)) (1.8.1)\n",
      "Requirement already satisfied: send2trash==1.8.0 in /usr/local/lib/python3.8/dist-packages (from -r /tmp/pipenv-requirements.txt (line 125)) (1.8.0)\n",
      "Collecting setuptools==63.2.0\n",
      "  Using cached setuptools-63.2.0-py3-none-any.whl (1.2 MB)\n",
      "Collecting six==1.16.0\n",
      "  Using cached six-1.16.0-py2.py3-none-any.whl (11 kB)\n",
      "Collecting sklearn==0.0\n",
      "  Using cached sklearn-0.0-py2.py3-none-any.whl\n",
      "Requirement already satisfied: soupsieve==2.3.2.post1 in /usr/local/lib/python3.8/dist-packages (from -r /tmp/pipenv-requirements.txt (line 129)) (2.3.2.post1)\n",
      "Collecting sqlalchemy==1.4.39\n",
      "  Using cached SQLAlchemy-1.4.39-cp38-cp38-manylinux_2_5_x86_64.manylinux1_x86_64.manylinux_2_17_x86_64.manylinux2014_x86_64.whl (1.6 MB)\n",
      "Collecting stack-data==0.3.0\n",
      "  Using cached stack_data-0.3.0-py3-none-any.whl (23 kB)\n",
      "Collecting stevedore==4.0.0\n",
      "  Using cached stevedore-4.0.0-py3-none-any.whl (49 kB)\n",
      "Requirement already satisfied: tensorboard-data-server==0.6.1 in /usr/local/lib/python3.8/dist-packages (from -r /tmp/pipenv-requirements.txt (line 133)) (0.6.1)\n",
      "Requirement already satisfied: tensorboard-plugin-wit==1.8.1 in /usr/local/lib/python3.8/dist-packages (from -r /tmp/pipenv-requirements.txt (line 134)) (1.8.1)\n",
      "Collecting tensorboard==2.8.0\n",
      "  Using cached tensorboard-2.8.0-py3-none-any.whl (5.8 MB)\n",
      "Collecting tensorflow-io-gcs-filesystem==0.26.0\n",
      "  Using cached tensorflow_io_gcs_filesystem-0.26.0-cp38-cp38-manylinux_2_12_x86_64.manylinux2010_x86_64.whl (2.4 MB)\n",
      "Collecting tensorflow-probability==0.16.0\n",
      "  Using cached tensorflow_probability-0.16.0-py2.py3-none-any.whl (6.3 MB)\n",
      "Collecting tensorflow==2.8\n",
      "  Using cached tensorflow-2.8.0-cp38-cp38-manylinux2010_x86_64.whl (497.6 MB)\n",
      "Requirement already satisfied: termcolor==1.1.0 in /usr/local/lib/python3.8/dist-packages (from -r /tmp/pipenv-requirements.txt (line 139)) (1.1.0)\n",
      "Requirement already satisfied: terminado==0.15.0 in /usr/local/lib/python3.8/dist-packages (from -r /tmp/pipenv-requirements.txt (line 140)) (0.15.0)\n",
      "Collecting tf-estimator-nightly==2.8.0.dev2021122109\n",
      "  Using cached tf_estimator_nightly-2.8.0.dev2021122109-py2.py3-none-any.whl (462 kB)\n",
      "Requirement already satisfied: threadpoolctl==3.1.0 in /usr/local/lib/python3.8/dist-packages (from -r /tmp/pipenv-requirements.txt (line 142)) (3.1.0)\n",
      "Collecting tifffile==2022.5.4\n",
      "  Using cached tifffile-2022.5.4-py3-none-any.whl (195 kB)\n",
      "Requirement already satisfied: tinycss2==1.1.1 in /usr/local/lib/python3.8/dist-packages (from -r /tmp/pipenv-requirements.txt (line 144)) (1.1.1)\n",
      "Collecting tornado==6.2\n",
      "  Using cached tornado-6.2-cp37-abi3-manylinux_2_5_x86_64.manylinux1_x86_64.manylinux_2_17_x86_64.manylinux2014_x86_64.whl (423 kB)\n",
      "Requirement already satisfied: tqdm==4.64.0 in /usr/local/lib/python3.8/dist-packages (from -r /tmp/pipenv-requirements.txt (line 146)) (4.64.0)\n",
      "Collecting traitlets==5.3.0\n",
      "  Using cached traitlets-5.3.0-py3-none-any.whl (106 kB)\n",
      "Collecting typing-extensions==4.3.0\n",
      "  Using cached typing_extensions-4.3.0-py3-none-any.whl (25 kB)\n",
      "Collecting urllib3==1.26.10\n",
      "  Using cached urllib3-1.26.10-py2.py3-none-any.whl (139 kB)\n",
      "Requirement already satisfied: wcwidth==0.2.5 in /usr/local/lib/python3.8/dist-packages (from -r /tmp/pipenv-requirements.txt (line 150)) (0.2.5)\n",
      "Requirement already satisfied: webencodings==0.5.1 in /usr/local/lib/python3.8/dist-packages (from -r /tmp/pipenv-requirements.txt (line 151)) (0.5.1)\n",
      "Requirement already satisfied: werkzeug==2.1.2 in /usr/local/lib/python3.8/dist-packages (from -r /tmp/pipenv-requirements.txt (line 152)) (2.1.2)\n",
      "Collecting wheel==0.37.1\n",
      "  Using cached wheel-0.37.1-py2.py3-none-any.whl (35 kB)\n",
      "Requirement already satisfied: wrapt==1.14.1 in /usr/local/lib/python3.8/dist-packages (from -r /tmp/pipenv-requirements.txt (line 154)) (1.14.1)\n",
      "Collecting zipp==3.8.1\n",
      "  Using cached zipp-3.8.1-py3-none-any.whl (5.6 kB)\n",
      "Installing collected packages: tf-estimator-nightly, pytz, pyperclip, keras, fastjsonschema, dm-tree, antlr4-python3-runtime, zipp, wheel, urllib3, typing-extensions, traitlets, tornado, tensorflow-io-gcs-filesystem, six, setuptools, rsa, pyzmq, pyyaml, psutil, protobuf, prompt-toolkit, prettytable, pillow, pbr, parso, numpy, networkx, mako, kiwisolver, jmespath, idna, greenlet, gast, fonttools, debugpy, colorlog, cmd2, cloudpickle, charset-normalizer, cffi, certifi, cachetools, autopage, absl-py, tifffile, tensorflow-probability, stevedore, sqlalchemy, requests, pywavelets, pyarrow, opencv-python-headless, omegaconf, jupyter-core, jedi, importlib-resources, importlib-metadata, imageio, h5py, grpcio, google-auth, cmaes, bleach, stack-data, scikit-learn, scikit-image, pandas, markdown, jupyter-client, jsonschema, hydra-core, cliff, botocore, alembic, sklearn, s3transfer, qudida, pdoc3, optuna, nbformat, ipython, tensorboard, nbclient, ipykernel, boto3, albumentations, tensorflow, notebook\n",
      "  Attempting uninstall: keras\n",
      "    Found existing installation: keras 2.7.0\n",
      "    Uninstalling keras-2.7.0:\n",
      "      Successfully uninstalled keras-2.7.0\n",
      "  Attempting uninstall: fastjsonschema\n",
      "    Found existing installation: fastjsonschema 2.15.3\n",
      "    Uninstalling fastjsonschema-2.15.3:\n",
      "      Successfully uninstalled fastjsonschema-2.15.3\n",
      "  Attempting uninstall: zipp\n",
      "    Found existing installation: zipp 3.8.0\n",
      "    Uninstalling zipp-3.8.0:\n",
      "      Successfully uninstalled zipp-3.8.0\n",
      "  Attempting uninstall: wheel\n",
      "    Found existing installation: wheel 0.34.2\n",
      "    Uninstalling wheel-0.34.2:\n",
      "      Successfully uninstalled wheel-0.34.2\n",
      "  Attempting uninstall: urllib3\n",
      "    Found existing installation: urllib3 1.25.8\n",
      "    Uninstalling urllib3-1.25.8:\n",
      "      Successfully uninstalled urllib3-1.25.8\n",
      "  Attempting uninstall: typing-extensions\n",
      "    Found existing installation: typing_extensions 4.2.0\n",
      "    Uninstalling typing_extensions-4.2.0:\n",
      "      Successfully uninstalled typing_extensions-4.2.0\n",
      "  Attempting uninstall: traitlets\n",
      "    Found existing installation: traitlets 5.2.1.post0\n",
      "    Uninstalling traitlets-5.2.1.post0:\n",
      "      Successfully uninstalled traitlets-5.2.1.post0\n",
      "  Attempting uninstall: tornado\n",
      "    Found existing installation: tornado 6.1\n",
      "    Uninstalling tornado-6.1:\n",
      "      Successfully uninstalled tornado-6.1\n",
      "  Attempting uninstall: tensorflow-io-gcs-filesystem\n",
      "    Found existing installation: tensorflow-io-gcs-filesystem 0.25.0\n",
      "    Uninstalling tensorflow-io-gcs-filesystem-0.25.0:\n",
      "      Successfully uninstalled tensorflow-io-gcs-filesystem-0.25.0\n",
      "  Attempting uninstall: six\n",
      "    Found existing installation: six 1.14.0\n",
      "    Uninstalling six-1.14.0:\n",
      "      Successfully uninstalled six-1.14.0\n",
      "  Attempting uninstall: setuptools\n",
      "    Found existing installation: setuptools 62.2.0\n",
      "    Uninstalling setuptools-62.2.0:\n",
      "      Successfully uninstalled setuptools-62.2.0\n",
      "  Attempting uninstall: rsa\n",
      "    Found existing installation: rsa 4.8\n",
      "    Uninstalling rsa-4.8:\n",
      "      Successfully uninstalled rsa-4.8\n",
      "  Attempting uninstall: pyzmq\n",
      "    Found existing installation: pyzmq 22.3.0\n",
      "    Uninstalling pyzmq-22.3.0:\n",
      "      Successfully uninstalled pyzmq-22.3.0\n",
      "  Attempting uninstall: psutil\n",
      "    Found existing installation: psutil 5.9.0\n",
      "    Uninstalling psutil-5.9.0:\n",
      "      Successfully uninstalled psutil-5.9.0\n",
      "  Attempting uninstall: protobuf\n",
      "    Found existing installation: protobuf 3.20.1\n",
      "    Uninstalling protobuf-3.20.1:\n",
      "      Successfully uninstalled protobuf-3.20.1\n",
      "  Attempting uninstall: prompt-toolkit\n",
      "    Found existing installation: prompt-toolkit 3.0.29\n",
      "    Uninstalling prompt-toolkit-3.0.29:\n",
      "      Successfully uninstalled prompt-toolkit-3.0.29\n",
      "  Attempting uninstall: pillow\n",
      "    Found existing installation: Pillow 9.1.0\n",
      "    Uninstalling Pillow-9.1.0:\n",
      "      Successfully uninstalled Pillow-9.1.0\n",
      "  Attempting uninstall: parso\n",
      "    Found existing installation: parso 0.7.1\n",
      "    Uninstalling parso-0.7.1:\n",
      "      Successfully uninstalled parso-0.7.1\n",
      "  Attempting uninstall: numpy\n",
      "    Found existing installation: numpy 1.22.3\n",
      "    Uninstalling numpy-1.22.3:\n",
      "      Successfully uninstalled numpy-1.22.3\n",
      "  Attempting uninstall: kiwisolver\n",
      "    Found existing installation: kiwisolver 1.4.2\n",
      "    Uninstalling kiwisolver-1.4.2:\n",
      "      Successfully uninstalled kiwisolver-1.4.2\n",
      "  Attempting uninstall: jmespath\n",
      "    Found existing installation: jmespath 0.10.0\n",
      "    Uninstalling jmespath-0.10.0:\n",
      "      Successfully uninstalled jmespath-0.10.0\n",
      "  Attempting uninstall: idna\n",
      "    Found existing installation: idna 2.8\n",
      "    Uninstalling idna-2.8:\n",
      "      Successfully uninstalled idna-2.8\n",
      "  Attempting uninstall: gast\n",
      "    Found existing installation: gast 0.4.0\n",
      "    Uninstalling gast-0.4.0:\n",
      "      Successfully uninstalled gast-0.4.0\n",
      "  Attempting uninstall: fonttools\n",
      "    Found existing installation: fonttools 4.33.3\n",
      "    Uninstalling fonttools-4.33.3:\n",
      "      Successfully uninstalled fonttools-4.33.3\n",
      "  Attempting uninstall: debugpy\n",
      "    Found existing installation: debugpy 1.6.0\n",
      "    Uninstalling debugpy-1.6.0:\n",
      "      Successfully uninstalled debugpy-1.6.0\n",
      "  Attempting uninstall: cffi\n",
      "    Found existing installation: cffi 1.15.0\n",
      "    Uninstalling cffi-1.15.0:\n",
      "      Successfully uninstalled cffi-1.15.0\n",
      "  Attempting uninstall: certifi\n",
      "    Found existing installation: certifi 2019.11.28\n",
      "    Uninstalling certifi-2019.11.28:\n",
      "      Successfully uninstalled certifi-2019.11.28\n",
      "  Attempting uninstall: cachetools\n",
      "    Found existing installation: cachetools 5.1.0\n",
      "    Uninstalling cachetools-5.1.0:\n",
      "      Successfully uninstalled cachetools-5.1.0\n",
      "  Attempting uninstall: absl-py\n",
      "    Found existing installation: absl-py 1.0.0\n",
      "    Uninstalling absl-py-1.0.0:\n",
      "      Successfully uninstalled absl-py-1.0.0\n",
      "  Attempting uninstall: requests\n",
      "    Found existing installation: requests 2.22.0\n",
      "    Uninstalling requests-2.22.0:\n",
      "      Successfully uninstalled requests-2.22.0\n",
      "  Attempting uninstall: jupyter-core\n",
      "    Found existing installation: jupyter-core 4.10.0\n",
      "    Uninstalling jupyter-core-4.10.0:\n",
      "      Successfully uninstalled jupyter-core-4.10.0\n",
      "  Attempting uninstall: jedi\n",
      "    Found existing installation: jedi 0.17.2\n",
      "    Uninstalling jedi-0.17.2:\n",
      "      Successfully uninstalled jedi-0.17.2\n",
      "  Attempting uninstall: importlib-resources\n",
      "    Found existing installation: importlib-resources 5.7.1\n",
      "    Uninstalling importlib-resources-5.7.1:\n",
      "      Successfully uninstalled importlib-resources-5.7.1\n",
      "  Attempting uninstall: importlib-metadata\n",
      "    Found existing installation: importlib-metadata 4.11.3\n",
      "    Uninstalling importlib-metadata-4.11.3:\n",
      "      Successfully uninstalled importlib-metadata-4.11.3\n",
      "  Attempting uninstall: h5py\n",
      "    Found existing installation: h5py 3.6.0\n",
      "    Uninstalling h5py-3.6.0:\n",
      "      Successfully uninstalled h5py-3.6.0\n",
      "  Attempting uninstall: grpcio\n",
      "    Found existing installation: grpcio 1.46.1\n",
      "    Uninstalling grpcio-1.46.1:\n",
      "      Successfully uninstalled grpcio-1.46.1\n",
      "  Attempting uninstall: google-auth\n",
      "    Found existing installation: google-auth 2.6.6\n",
      "    Uninstalling google-auth-2.6.6:\n",
      "      Successfully uninstalled google-auth-2.6.6\n",
      "  Attempting uninstall: bleach\n",
      "    Found existing installation: bleach 5.0.0\n",
      "    Uninstalling bleach-5.0.0:\n",
      "      Successfully uninstalled bleach-5.0.0\n",
      "  Attempting uninstall: stack-data\n",
      "    Found existing installation: stack-data 0.2.0\n",
      "    Uninstalling stack-data-0.2.0:\n",
      "      Successfully uninstalled stack-data-0.2.0\n",
      "  Attempting uninstall: scikit-learn\n",
      "    Found existing installation: scikit-learn 0.24.1\n",
      "    Uninstalling scikit-learn-0.24.1:\n",
      "      Successfully uninstalled scikit-learn-0.24.1\n",
      "  Attempting uninstall: markdown\n",
      "    Found existing installation: Markdown 3.3.7\n",
      "    Uninstalling Markdown-3.3.7:\n",
      "      Successfully uninstalled Markdown-3.3.7\n",
      "  Attempting uninstall: jupyter-client\n",
      "    Found existing installation: jupyter-client 7.3.1\n",
      "    Uninstalling jupyter-client-7.3.1:\n",
      "      Successfully uninstalled jupyter-client-7.3.1\n",
      "  Attempting uninstall: jsonschema\n",
      "    Found existing installation: jsonschema 4.5.1\n",
      "    Uninstalling jsonschema-4.5.1:\n",
      "      Successfully uninstalled jsonschema-4.5.1\n",
      "  Attempting uninstall: botocore\n",
      "    Found existing installation: botocore 1.19.63\n",
      "    Uninstalling botocore-1.19.63:\n",
      "      Successfully uninstalled botocore-1.19.63\n",
      "  Attempting uninstall: s3transfer\n",
      "    Found existing installation: s3transfer 0.3.7\n",
      "    Uninstalling s3transfer-0.3.7:\n",
      "      Successfully uninstalled s3transfer-0.3.7\n",
      "  Attempting uninstall: nbformat\n",
      "    Found existing installation: nbformat 4.4.0\n",
      "    Uninstalling nbformat-4.4.0:\n",
      "      Successfully uninstalled nbformat-4.4.0\n",
      "  Attempting uninstall: ipython\n",
      "    Found existing installation: ipython 8.3.0\n",
      "    Uninstalling ipython-8.3.0:\n",
      "      Successfully uninstalled ipython-8.3.0\n",
      "  Attempting uninstall: tensorboard\n",
      "    Found existing installation: tensorboard 2.9.0\n",
      "    Uninstalling tensorboard-2.9.0:\n",
      "      Successfully uninstalled tensorboard-2.9.0\n",
      "  Attempting uninstall: nbclient\n",
      "    Found existing installation: nbclient 0.6.3\n",
      "    Uninstalling nbclient-0.6.3:\n",
      "      Successfully uninstalled nbclient-0.6.3\n",
      "  Attempting uninstall: ipykernel\n",
      "    Found existing installation: ipykernel 5.1.1\n",
      "    Uninstalling ipykernel-5.1.1:\n",
      "      Successfully uninstalled ipykernel-5.1.1\n",
      "  Attempting uninstall: boto3\n",
      "    Found existing installation: boto3 1.16.63\n",
      "    Uninstalling boto3-1.16.63:\n",
      "      Successfully uninstalled boto3-1.16.63\n",
      "  Attempting uninstall: tensorflow\n",
      "    Found existing installation: tensorflow 2.7.2\n",
      "    Uninstalling tensorflow-2.7.2:\n",
      "      Successfully uninstalled tensorflow-2.7.2\n",
      "  Attempting uninstall: notebook\n",
      "    Found existing installation: notebook 6.4.11\n",
      "    Uninstalling notebook-6.4.11:\n",
      "      Successfully uninstalled notebook-6.4.11\n",
      "Successfully installed absl-py-1.2.0 albumentations-1.2.1 alembic-1.8.1 antlr4-python3-runtime-4.9.3 autopage-0.5.1 bleach-5.0.1 boto3-1.24.34 botocore-1.27.34 cachetools-5.2.0 certifi-2022.6.15 cffi-1.15.1 charset-normalizer-2.1.0 cliff-3.10.1 cloudpickle-2.1.0 cmaes-0.8.2 cmd2-2.4.2 colorlog-6.6.0 debugpy-1.6.2 dm-tree-0.1.7 fastjsonschema-2.16.1 fonttools-4.34.4 gast-0.5.3 google-auth-2.9.1 greenlet-1.1.2 grpcio-1.47.0 h5py-3.7.0 hydra-core-1.2.0 idna-3.3 imageio-2.19.5 importlib-metadata-4.12.0 importlib-resources-5.8.0 ipykernel-6.15.1 ipython-8.4.0 jedi-0.18.1 jmespath-1.0.1 jsonschema-4.7.2 jupyter-client-7.3.4 jupyter-core-4.11.1 keras-2.8.0 kiwisolver-1.4.4 mako-1.2.1 markdown-3.4.1 nbclient-0.6.6 nbformat-5.4.0 networkx-2.8.5 notebook-6.4.12 numpy-1.23.1 omegaconf-2.2.2 opencv-python-headless-4.6.0.66 optuna-2.10.1 pandas-1.4.3 parso-0.8.3 pbr-5.9.0 pdoc3-0.10.0 pillow-9.2.0 prettytable-3.3.0 prompt-toolkit-3.0.30 protobuf-3.20.0 psutil-5.9.1 pyarrow-8.0.0 pyperclip-1.8.2 pytz-2022.1 pywavelets-1.3.0 pyyaml-6.0 pyzmq-23.2.0 qudida-0.0.4 requests-2.28.1 rsa-4.9 s3transfer-0.6.0 scikit-image-0.19.3 scikit-learn-1.1.1 setuptools-63.2.0 six-1.16.0 sklearn-0.0 sqlalchemy-1.4.39 stack-data-0.3.0 stevedore-4.0.0 tensorboard-2.8.0 tensorflow-2.8.0 tensorflow-io-gcs-filesystem-0.26.0 tensorflow-probability-0.16.0 tf-estimator-nightly-2.8.0.dev2021122109 tifffile-2022.5.4 tornado-6.2 traitlets-5.3.0 typing-extensions-4.3.0 urllib3-1.26.10 wheel-0.37.1 zipp-3.8.1\n",
      "\u001B[33mWARNING: Running pip as the 'root' user can result in broken permissions and conflicting behaviour with the system package manager. It is recommended to use a virtual environment instead: https://pip.pypa.io/warnings/venv\u001B[0m\u001B[33m\n",
      "\u001B[0m\u001B[33mWARNING: There was an error checking the latest version of pip.\u001B[0m\u001B[33m\n",
      "\u001B[0m"
     ]
    }
   ],
   "source": [
    "# EXECUTE THE FOLLOWING STATEMENTS ONLY IF YOU ARE RUNNING ON AWS SAGEMAKER STUDIO\n",
    "!cd .. && make install_on_sagemaker"
   ]
  },
  {
   "cell_type": "code",
   "execution_count": null,
   "outputs": [],
   "source": [
    "import os\n",
    "from pathlib import Path\n",
    "\n",
    "if os.getenv(\"ENVIRONMENT_NAME\") != \"local\":\n",
    "    os.chdir(Path().resolve().parent)\n",
    "\n",
    "if os.getenv(\"ENVIRONMENT_NAME\") == \"local\":\n",
    "    os.environ[\"AWS_PROFILE\"] = \"datascience\""
   ],
   "metadata": {
    "collapsed": false,
    "pycharm": {
     "name": "#%%\n"
    }
   }
  },
  {
   "cell_type": "code",
   "execution_count": null,
   "outputs": [],
   "source": [
    "print(\"Current working directory (should be equal to the project root path):\", os.getcwd())"
   ],
   "metadata": {
    "collapsed": false,
    "pycharm": {
     "name": "#%%\n"
    }
   }
  },
  {
   "cell_type": "code",
   "execution_count": null,
   "outputs": [],
   "source": [
    "import src"
   ],
   "metadata": {
    "collapsed": false,
    "pycharm": {
     "name": "#%%\n"
    }
   }
  },
  {
   "cell_type": "code",
   "execution_count": null,
   "outputs": [],
   "source": [
    "########################################################\n",
    "# USE THIS CODE ALWAYS AS FIRST CELL IN YOUR NOTEBOOKS #\n",
    "########################################################\n",
    "\n",
    "# DO NOT MODIFY THIS CODE\n",
    "import sys\n",
    "from pathlib import Path\n",
    "sys.path.insert(0,str(Path(os.getcwd()).resolve()))\n",
    "import os\n",
    "\n",
    "from car_azimuth_predictor.config import load_config\n",
    "load_config()\n",
    "from car_azimuth_predictor.config import current_config\n",
    "\n",
    "########################################################"
   ],
   "metadata": {
    "collapsed": false,
    "pycharm": {
     "name": "#%%\n"
    }
   }
  },
  {
   "cell_type": "code",
   "execution_count": null,
   "outputs": [],
   "source": [
    "# TODO: Add your code here"
   ],
   "metadata": {
    "collapsed": false,
    "pycharm": {
     "name": "#%%\n"
    }
   }
  },
  {
   "cell_type": "code",
   "execution_count": null,
   "outputs": [],
   "source": [
    "from car_azimuth_predictor.data_gathering import collect_data\n",
    "\n",
    "collect_data(current_config)"
   ],
   "metadata": {
    "collapsed": false,
    "pycharm": {
     "name": "#%%\n"
    }
   }
  },
  {
   "cell_type": "code",
   "execution_count": null,
   "outputs": [],
   "source": [
    "from car_azimuth_predictor.feature_generation import generate_features\n",
    "\n",
    "generate_features(current_config)"
   ],
   "metadata": {
    "collapsed": false,
    "pycharm": {
     "name": "#%%\n"
    }
   }
  },
  {
   "cell_type": "code",
   "execution_count": null,
   "outputs": [],
   "source": [
    "from car_azimuth_predictor.split_dataset import split_dataset\n",
    "\n",
    "split_dataset(current_config)"
   ],
   "metadata": {
    "collapsed": false,
    "pycharm": {
     "name": "#%%\n"
    }
   }
  },
  {
   "cell_type": "markdown",
   "source": [
    "## Approach 1\n",
    "Output 2 variables (sin, cos), MSE loss "
   ],
   "metadata": {
    "collapsed": false,
    "pycharm": {
     "name": "#%% md\n"
    }
   }
  },
  {
   "cell_type": "code",
   "execution_count": null,
   "outputs": [],
   "source": [
    "import tensorflow as tf\n",
    "\n",
    "from src.utils.training_tools import (\n",
    "    tf_mean_absolute_angle_error_sin_cos_output,\n",
    "    tf_rmse_angle_sin_cos_output,\n",
    "    tf_r2_angle_score_sin_cos_output,\n",
    "    tf_median_absolute_angle_error_sin_cos_output,\n",
    "    tf_acc_pi_6_sin_cos_output,\n",
    "    horizontal_flip_pose_sin_cos_output\n",
    ")"
   ],
   "metadata": {
    "collapsed": false,
    "pycharm": {
     "name": "#%%\n"
    }
   }
  },
  {
   "cell_type": "code",
   "execution_count": null,
   "outputs": [],
   "source": [
    "from src.dataset_generation import generate_datasets\n",
    "\n",
    "gt_cols = ['azimuth_sin', 'azimuth_cos']\n",
    "train_dataset, validation_dataset, test_dataset = generate_datasets(current_config, gt_cols=gt_cols, pose_flip_fn=horizontal_flip_pose_sin_cos_output)"
   ],
   "metadata": {
    "collapsed": false,
    "pycharm": {
     "name": "#%%\n"
    }
   }
  },
  {
   "cell_type": "code",
   "execution_count": null,
   "outputs": [],
   "source": [
    "input_layer = tf.keras.layers.Input(shape=(1280,))\n",
    "\n",
    "mlp_middle = tf.keras.layers.Dense(32, activation='relu', name='mlp_middle')(input_layer)\n",
    "mlp_output = tf.keras.layers.Dense(2, activation='tanh', name='mlp_output')(mlp_middle)\n",
    "\n",
    "bottom = tf.keras.models.Model(inputs=input_layer, outputs=mlp_output)"
   ],
   "metadata": {
    "collapsed": false,
    "pycharm": {
     "name": "#%%\n"
    }
   }
  },
  {
   "cell_type": "code",
   "execution_count": null,
   "outputs": [],
   "source": [
    "from src.model_generation import generate_model\n",
    "\n",
    "model = generate_model(current_config, bottom=bottom)"
   ],
   "metadata": {
    "collapsed": false,
    "pycharm": {
     "name": "#%%\n"
    }
   }
  },
  {
   "cell_type": "code",
   "execution_count": null,
   "outputs": [],
   "source": [
    "model.summary()"
   ],
   "metadata": {
    "collapsed": false,
    "pycharm": {
     "name": "#%%\n"
    }
   }
  },
  {
   "cell_type": "code",
   "execution_count": null,
   "outputs": [],
   "source": [
    "loss = tf.keras.losses.MeanSquaredError(reduction=\"auto\", name=\"mean_squared_error\")\n",
    "metrics=[\n",
    "    tf_mean_absolute_angle_error_sin_cos_output,\n",
    "    tf_rmse_angle_sin_cos_output,\n",
    "    tf_r2_angle_score_sin_cos_output,\n",
    "    tf_median_absolute_angle_error_sin_cos_output,\n",
    "    tf_acc_pi_6_sin_cos_output\n",
    "]\n",
    "optimizer = tf.keras.optimizers.Adamax(learning_rate=0.001)"
   ],
   "metadata": {
    "collapsed": false,
    "pycharm": {
     "name": "#%%\n"
    }
   }
  },
  {
   "cell_type": "code",
   "execution_count": null,
   "outputs": [],
   "source": [
    "from src.train_model import train_model\n",
    "\n",
    "train_history, current_datetime_strgfied = train_model(current_config, model=model, train_dataset=train_dataset, validation_dataset=validation_dataset, optimizer=optimizer, loss=loss, metrics=metrics, persist_train_history=True)"
   ],
   "metadata": {
    "collapsed": false,
    "pycharm": {
     "name": "#%%\n"
    }
   }
  },
  {
   "cell_type": "code",
   "execution_count": null,
   "outputs": [],
   "source": [
    "from src.plot_training_curves import plot_training_curves\n",
    "\n",
    "plot_training_curves(train_history, \"Training curves - Approach 1. MeanSquaredError\")"
   ],
   "metadata": {
    "collapsed": false,
    "pycharm": {
     "name": "#%%\n"
    }
   }
  },
  {
   "cell_type": "code",
   "execution_count": null,
   "outputs": [],
   "source": [
    "from src.evaluate_model import evaluate_model\n",
    "import tensorflow_hub as hub\n",
    "\n",
    "custom_objects = {\n",
    "    \"KerasLayer\": hub.KerasLayer,\n",
    "    \"tf_mean_absolute_angle_error_sin_cos_output\": tf_mean_absolute_angle_error_sin_cos_output,\n",
    "    \"tf_rmse_angle_sin_cos_output\": tf_rmse_angle_sin_cos_output,\n",
    "    \"tf_r2_angle_score_sin_cos_output\": tf_r2_angle_score_sin_cos_output,\n",
    "    \"tf_median_absolute_angle_error_sin_cos_output\": tf_median_absolute_angle_error_sin_cos_output,\n",
    "    \"tf_acc_pi_6_sin_cos_output\": tf_acc_pi_6_sin_cos_output\n",
    "}\n",
    "\n",
    "current_datetime_strgfied = \"20220715-093435\"\n",
    "evaluate_model(current_config, current_datetime_strgfied, 36, test_dataset, custom_objects)"
   ],
   "metadata": {
    "collapsed": false,
    "pycharm": {
     "name": "#%%\n"
    }
   }
  },
  {
   "cell_type": "markdown",
   "source": [
    "## Approach 2\n",
    "Output 2 variables (sin, cos), Cosine Similarity loss "
   ],
   "metadata": {
    "collapsed": false,
    "pycharm": {
     "name": "#%% md\n"
    }
   }
  },
  {
   "cell_type": "code",
   "execution_count": null,
   "outputs": [],
   "source": [
    "import tensorflow as tf\n",
    "\n",
    "from src.utils.training_tools import (\n",
    "    tf_mean_absolute_angle_error_sin_cos_output,\n",
    "    tf_rmse_angle_sin_cos_output,\n",
    "    tf_r2_angle_score_sin_cos_output,\n",
    "    tf_median_absolute_angle_error_sin_cos_output,\n",
    "    tf_acc_pi_6_sin_cos_output,\n",
    "    horizontal_flip_pose_sin_cos_output\n",
    ")\n",
    "from src.dataset_generation import generate_datasets\n",
    "\n",
    "gt_cols = ['azimuth_sin', 'azimuth_cos']\n",
    "train_dataset, validation_dataset, test_dataset = generate_datasets(current_config, gt_cols=gt_cols, pose_flip_fn=horizontal_flip_pose_sin_cos_output)\n",
    "input_layer = tf.keras.layers.Input(shape=(1280,))\n",
    "\n",
    "mlp_middle = tf.keras.layers.Dense(32, activation='relu', name='mlp_middle')(input_layer)\n",
    "mlp_output = tf.keras.layers.Dense(2, activation='tanh', name='mlp_output')(mlp_middle)\n",
    "\n",
    "bottom = tf.keras.models.Model(inputs=input_layer, outputs=mlp_output)"
   ],
   "metadata": {
    "collapsed": false,
    "pycharm": {
     "name": "#%%\n"
    }
   }
  },
  {
   "cell_type": "code",
   "execution_count": null,
   "outputs": [],
   "source": [
    "from src.model_generation import generate_model\n",
    "\n",
    "model = generate_model(current_config, bottom=bottom)"
   ],
   "metadata": {
    "collapsed": false,
    "pycharm": {
     "name": "#%%\n"
    }
   }
  },
  {
   "cell_type": "code",
   "execution_count": null,
   "outputs": [],
   "source": [
    "loss = tf.keras.losses.CosineSimilarity()\n",
    "metrics = [\n",
    "    tf_mean_absolute_angle_error_sin_cos_output,\n",
    "    tf_rmse_angle_sin_cos_output,\n",
    "    tf_r2_angle_score_sin_cos_output,\n",
    "    tf_median_absolute_angle_error_sin_cos_output,\n",
    "    tf_acc_pi_6_sin_cos_output\n",
    "]\n",
    "optimizer = tf.keras.optimizers.Adamax(learning_rate=0.001)"
   ],
   "metadata": {
    "collapsed": false,
    "pycharm": {
     "name": "#%%\n"
    }
   }
  },
  {
   "cell_type": "code",
   "execution_count": null,
   "outputs": [],
   "source": [
    "from src.train_model import train_model\n",
    "\n",
    "train_history, current_datetime_strgfied = train_model(current_config, model=model, train_dataset=train_dataset,\n",
    "                                           validation_dataset=validation_dataset, optimizer=optimizer, loss=loss,\n",
    "                                           metrics=metrics, persist_train_history=True)"
   ],
   "metadata": {
    "collapsed": false,
    "pycharm": {
     "name": "#%%\n"
    }
   }
  },
  {
   "cell_type": "code",
   "execution_count": null,
   "outputs": [],
   "source": [
    "from src.plot_training_curves import plot_training_curves\n",
    "\n",
    "plot_training_curves(train_history, \"Training curves - Approach 2. CosineSimilarity\")"
   ],
   "metadata": {
    "collapsed": false,
    "pycharm": {
     "name": "#%%\n"
    }
   }
  },
  {
   "cell_type": "code",
   "execution_count": null,
   "outputs": [],
   "source": [
    "from src.evaluate_model import evaluate_model\n",
    "import tensorflow_hub as hub\n",
    "custom_objects = {\n",
    "    \"KerasLayer\": hub.KerasLayer,\n",
    "    \"tf_mean_absolute_angle_error_sin_cos_output\": tf_mean_absolute_angle_error_sin_cos_output,\n",
    "    \"tf_rmse_angle_sin_cos_output\": tf_rmse_angle_sin_cos_output,\n",
    "    \"tf_r2_angle_score_sin_cos_output\": tf_r2_angle_score_sin_cos_output,\n",
    "    \"tf_median_absolute_angle_error_sin_cos_output\": tf_median_absolute_angle_error_sin_cos_output,\n",
    "    \"tf_acc_pi_6_sin_cos_output\": tf_acc_pi_6_sin_cos_output\n",
    "}\n",
    "\n",
    "current_datetime_strgfied = \"20220715-095559\"\n",
    "evaluate_model(current_config, current_datetime_strgfied, 8, test_dataset, custom_objects=custom_objects)"
   ],
   "metadata": {
    "collapsed": false,
    "pycharm": {
     "name": "#%%\n"
    }
   }
  },
  {
   "cell_type": "markdown",
   "source": [
    "## Approach 3\n",
    "Output 2 variable (angle from 0 to pi, angle from pi/2 to 3/2 pi), Custom crossentropy loss"
   ],
   "metadata": {
    "collapsed": false,
    "pycharm": {
     "name": "#%% md\n"
    }
   }
  },
  {
   "cell_type": "code",
   "execution_count": null,
   "outputs": [],
   "source": [
    "import tensorflow as tf\n",
    "input_layer = tf.keras.layers.Input(shape=(1280,))\n",
    "\n",
    "mlp_middle = tf.keras.layers.Dense(\n",
    "    32, activation=\"relu\", name=\"mlp_middle\"\n",
    ")(input_layer)\n",
    "\n",
    "angle1_sigmoid_output = tf.keras.layers.Dense(\n",
    "    1, activation=\"sigmoid\", name=\"angle1_output\"\n",
    ")(mlp_middle)\n",
    "angle2_sigmoid_output = tf.keras.layers.Dense(\n",
    "    1, activation=\"sigmoid\", name=\"angle2_output\"\n",
    ")(mlp_middle)\n",
    "\n",
    "# concatenate two together\n",
    "angle_concatenated = tf.keras.layers.Concatenate(\n",
    "    axis=1, name=\"concatenate_angles_2_vars\"\n",
    ")([angle1_sigmoid_output, angle2_sigmoid_output])\n",
    "\n",
    "bottom = tf.keras.models.Model(inputs=input_layer, outputs=angle_concatenated)"
   ],
   "metadata": {
    "collapsed": false,
    "pycharm": {
     "name": "#%%\n"
    }
   }
  },
  {
   "cell_type": "code",
   "execution_count": null,
   "outputs": [],
   "source": [
    "from src.model_generation import generate_model\n",
    "\n",
    "model = generate_model(current_config, bottom=bottom)"
   ],
   "metadata": {
    "collapsed": false,
    "pycharm": {
     "name": "#%%\n"
    }
   }
  },
  {
   "cell_type": "code",
   "execution_count": null,
   "outputs": [],
   "source": [
    "from src.dataset_generation import generate_datasets\n",
    "from src.utils.training_tools import (\n",
    "    angle_double_output_loss,\n",
    "    tf_acc_pi_6_double_sigmoid,\n",
    "    tf_mean_absolute_angle_error_double_sigmoid,\n",
    "    tf_median_absolute_angle_error_double_sigmoid,\n",
    "    tf_r2_angle_score_double_sigmoid,\n",
    "    tf_rmse_angle_score_double_sigmoid,\n",
    "    horizontal_flip_pose_double_sigmoid\n",
    ")\n",
    "\n",
    "gt_cols = ['azimuth_norm_abs', 'azimuth_radians_shifted_0.5_pi_norm_abs']\n",
    "train_dataset, validation_dataset, test_dataset = generate_datasets(current_config, gt_cols=gt_cols, pose_flip_fn=horizontal_flip_pose_double_sigmoid)"
   ],
   "metadata": {
    "collapsed": false,
    "pycharm": {
     "name": "#%%\n"
    }
   }
  },
  {
   "cell_type": "code",
   "execution_count": null,
   "outputs": [],
   "source": [
    "\n",
    "optimizer = tf.keras.optimizers.Adamax(learning_rate=0.001)\n",
    "loss = angle_double_output_loss\n",
    "metrics = [\n",
    "    tf_mean_absolute_angle_error_double_sigmoid,\n",
    "    tf_median_absolute_angle_error_double_sigmoid,\n",
    "    tf_r2_angle_score_double_sigmoid,\n",
    "    tf_rmse_angle_score_double_sigmoid,\n",
    "    tf_acc_pi_6_double_sigmoid,\n",
    "]"
   ],
   "metadata": {
    "collapsed": false,
    "pycharm": {
     "name": "#%%\n"
    }
   }
  },
  {
   "cell_type": "code",
   "execution_count": null,
   "outputs": [],
   "source": [
    "from src.train_model import train_model\n",
    "\n",
    "train_history, current_datetime_strgfied = train_model(current_config, model=model, train_dataset=train_dataset, validation_dataset=validation_dataset, optimizer=optimizer, loss=loss, metrics=metrics)"
   ],
   "metadata": {
    "collapsed": false,
    "pycharm": {
     "name": "#%%\n"
    }
   }
  },
  {
   "cell_type": "code",
   "execution_count": null,
   "outputs": [],
   "source": [
    "import json\n",
    "\n",
    "histories_path = \"/root/car-azimuth-predictor-experimentation/training_histories\"\n",
    "os.makedirs(histories_path, exist_ok=True)\n",
    "with open(os.path.join(histories_path, \"approach_3_patience10.json\"), \"w\") as fp:\n",
    "    json.dump(train_history.history, fp)"
   ],
   "metadata": {
    "collapsed": false,
    "pycharm": {
     "name": "#%%\n"
    }
   }
  },
  {
   "cell_type": "code",
   "execution_count": null,
   "outputs": [],
   "source": [
    "from src.plot_training_curves import plot_training_curves\n",
    "import json\n",
    "\n",
    "history_path = \"/root/car-azimuth-predictor-experimentation/training_histories/approach_3.json\"\n",
    "with open(history_path, \"r\") as fp:\n",
    "    train_history = json.load(fp)\n",
    "plot_training_curves(train_history, \"Training curves - Approach 3. DoubleBinaryCrossentropy\")"
   ],
   "metadata": {
    "collapsed": false,
    "pycharm": {
     "name": "#%%\n"
    }
   }
  },
  {
   "cell_type": "code",
   "execution_count": null,
   "outputs": [],
   "source": [
    "from src.evaluate_model import evaluate_model\n",
    "import tensorflow_hub as hub\n",
    "\n",
    "custom_objects = {\n",
    "    \"KerasLayer\": hub.KerasLayer,\n",
    "    \"angle_double_output_loss\": angle_double_output_loss,\n",
    "    \"tf_mean_absolute_angle_error_double_sigmoid\": tf_mean_absolute_angle_error_double_sigmoid,\n",
    "    \"tf_rmse_angle_score_double_sigmoid\": tf_rmse_angle_score_double_sigmoid,\n",
    "    \"tf_r2_angle_score_double_sigmoid\": tf_r2_angle_score_double_sigmoid,\n",
    "    \"tf_median_absolute_angle_error_double_sigmoid\": tf_median_absolute_angle_error_double_sigmoid,\n",
    "    \"tf_acc_pi_6_double_sigmoid\": tf_acc_pi_6_double_sigmoid\n",
    "}\n",
    "\n",
    "current_datetime_strgfied = \"20220715-101105\"\n",
    "model, _ = evaluate_model(current_config, current_datetime_strgfied, 12, test_dataset, custom_objects=custom_objects)"
   ],
   "metadata": {
    "collapsed": false,
    "pycharm": {
     "name": "#%%\n"
    }
   }
  },
  {
   "cell_type": "code",
   "execution_count": null,
   "outputs": [],
   "source": [
    "len(os.listdir(\"/root/car-azimuth-predictor-experimentation/data/raw/PASCAL3D+_release1.1/Images/car_imagenet\"))"
   ],
   "metadata": {
    "collapsed": false,
    "pycharm": {
     "name": "#%%\n"
    }
   }
  },
  {
   "cell_type": "code",
   "execution_count": null,
   "outputs": [],
   "source": [
    "from src.visualize import visualize_predictions\n",
    "\n",
    "visualize_predictions(model, test_dataset)"
   ],
   "metadata": {
    "collapsed": false,
    "pycharm": {
     "name": "#%%\n"
    }
   }
  },
  {
   "cell_type": "markdown",
   "source": [
    "## Random experimentations and plots"
   ],
   "metadata": {
    "collapsed": false,
    "pycharm": {
     "name": "#%% md\n"
    }
   }
  },
  {
   "cell_type": "code",
   "execution_count": null,
   "outputs": [],
   "source": [
    "import requests\n",
    "import io\n",
    "import tempfile\n",
    "import matplotlib.pyplot as plt\n",
    "import math\n",
    "from PIL import Image\n",
    "import numpy as np\n",
    "from tensorflow.keras.applications.efficientnet_v2 import (\n",
    "    preprocess_input as preprocess_input_effnet,\n",
    ")\n",
    "from src.utils.training_tools import np_get_angle_from_double_sigmoids\n",
    "from src.utils.visualization_tools import plot_image_from_path\n",
    "\n",
    "\n",
    "urls = [\n",
    "    'https://upload.wikimedia.org/wikipedia/commons/6/6b/Fiat_Panda_1.2_8V_Lounge_%28III%29_%E2%80%93_Frontansicht_%281%29%2C_25._Februar_2012%2C_D%C3%BCsseldorf.jpg',\n",
    "    'https://prod.pictures.autoscout24.net/listing-images/6bfcbee3-287c-c936-e043-1250030acba4_8fc165c2-c4ac-4b7e-839d-d8493643d946.jpg/720x540.webp',\n",
    "    'https://prod.pictures.autoscout24.net/listing-images/3802d738-e48b-4d83-8591-91909d46364c_a62d9238-0abf-459e-bf5e-adb0adbf518c.jpg/720x540.webp',\n",
    "    'https://prod.pictures.autoscout24.net/listing-images/3802d738-e48b-4d83-8591-91909d46364c_c42ff950-03eb-4453-b05f-66712e334045.jpg/720x540.webp',\n",
    "    'https://prod.pictures.autoscout24.net/listing-images/7c46ed9c-2a35-4a0d-9cb4-dd580ab3a06a_76e97c5d-bc23-4e32-bd82-1faf05820772.jpg/720x540.webp',\n",
    "    'https://prod.pictures.autoscout24.net/listing-images/5d998939-3d32-4f30-ba6a-0b7be9b7417e_9b2ada8b-83d7-4e60-8372-6caf4f773e28.jpg/720x540.webp',\n",
    "    'https://prod.pictures.autoscout24.net/listing-images/91cd3f2d-ad89-4d9a-ab62-29a575fd3403_6211ebb0-6a30-44f7-9281-85d9396c6057.jpg/720x540.webp',\n",
    "    'https://prod.pictures.autoscout24.net/listing-images/91cd3f2d-ad89-4d9a-ab62-29a575fd3403_2be35d4c-b029-4a8e-a051-b4bf98d5c6d8.jpg/720x540.webp',\n",
    "    'https://prod.pictures.autoscout24.net/listing-images/91cd3f2d-ad89-4d9a-ab62-29a575fd3403_1ebcd7cc-c2e1-4f12-91a1-4e569d4fe723.jpg/720x540.webp',\n",
    "    'https://prod.pictures.autoscout24.net/listing-images/8bc04ac1-b48c-4c21-9cd5-7f7f2c9d0fcd_00b68deb-3f96-44c8-bcf0-6e6c55ad2135.jpg/720x540.webp',\n",
    "    'https://prod.pictures.autoscout24.net/listing-images/83af03db-5170-4778-8ab8-13a7d3dbf31a_986b9ca3-adda-44a9-84d6-9c35d09fcc6e.jpg/720x540.webp',\n",
    "    'https://prod.pictures.autoscout24.net/listing-images/83af03db-5170-4778-8ab8-13a7d3dbf31a_bf251591-e5e3-4c57-9fdd-53c9ce10ee96.jpg/720x540.webp',\n",
    "    'https://prod.pictures.autoscout24.net/listing-images/83af03db-5170-4778-8ab8-13a7d3dbf31a_62a1aee8-a4f9-400d-b343-889df15fe389.jpg/720x540.webp',\n",
    "    'https://prod.pictures.autoscout24.net/listing-images/e74fc24f-2f2b-4219-812f-2fa43dc2e923_2c1f525f-2ecc-4bef-aae8-0c9ad8e650f4.jpg/720x540.webp',\n",
    "    'https://prod.pictures.autoscout24.net/listing-images/e74fc24f-2f2b-4219-812f-2fa43dc2e923_a267a0c3-7672-4088-ac68-c26c7f429f82.jpg/720x540.webp',\n",
    "    'https://prod.pictures.autoscout24.net/listing-images/677f431e-7478-4828-9cca-f6c4d9ae96f1_079d9bb9-8093-4e11-a991-873be527cbe8.jpg/720x540.webp',\n",
    "    'https://prod.pictures.autoscout24.net/listing-images/e31139cf-5c92-4cd4-82e9-0fcd530c94f7_34c8865c-0465-4450-aa7b-41faf53826e5.jpg/720x540.webp',\n",
    "    'https://prod.pictures.autoscout24.net/listing-images/b65fc27b-ad27-4e66-ace1-ac2742464eca_9e7e66db-adef-493b-a472-e402cc918685.jpg/720x540.webp',\n",
    "    'https://prod.pictures.autoscout24.net/listing-images/f12d0232-111f-4887-a9eb-112f91c3efe5_5fe3939e-b81b-4f18-a4d3-ee7b5858dbfc.jpg/720x540.webp',\n",
    "    'https://prod.pictures.autoscout24.net/listing-images/f12d0232-111f-4887-a9eb-112f91c3efe5_870664b6-23aa-464d-b481-9f6ec883fca8.jpg/720x540.webp',\n",
    "    'https://prod.pictures.autoscout24.net/listing-images/8f5ac529-c8f4-408d-a3ac-664e967bf409_2b4dceb9-7d45-44c1-876e-5aecbb51dad7.jpg/720x540.webp',\n",
    "    'https://prod.pictures.autoscout24.net/listing-images/8069a9b0-e78e-4cba-8e37-76437312534a_e563f624-0e7f-4d6e-9331-1edcf100b548.jpg/720x540.webp',\n",
    "    'https://prod.pictures.autoscout24.net/listing-images/e8d79a2d-057f-45f3-a231-c17662d1175a_07c7315f-03a2-45f4-9fcb-7d8e6424e8dc.jpg/720x540.webp',\n",
    "    'https://prod.pictures.autoscout24.net/listing-images/c939465c-7cfe-4ff2-b062-6ebff742c163_0d7c9145-33a5-4b21-be67-5d3e585a6148.jpg/720x540.webp',\n",
    "    'https://prod.pictures.autoscout24.net/listing-images/62d6b64c-63ea-4fcf-b813-83945cb525f0_99254a7d-d4b0-4476-b683-78704a01cf8f.jpg/720x540.webp'\n",
    "\n",
    "]\n",
    "\n",
    "plt.figure(figsize=(24, 24))\n",
    "square_size = int(math.ceil(math.sqrt(len(urls))))\n",
    "\n",
    "for i, url in enumerate(urls):\n",
    "    with tempfile.NamedTemporaryFile() as fp:\n",
    "\n",
    "        res = requests.get(url, headers={'user-agent': 'Mozilla/5.0 (X11; Linux x86_64) AppleWebKit/537.36 (KHTML, like Gecko) Chrome/103.0.0.0 Safari/537.36'}, stream=True)\n",
    "        fp.write(res.raw.read())\n",
    "\n",
    "        # virt_file.seek(0)\n",
    "        img = Image.open(fp.name)\n",
    "        img = img.resize([224, 224])\n",
    "        img.save(fp.name + '.resized.jpg')\n",
    "\n",
    "\n",
    "        X = np.array([preprocess_input_effnet(np.array(img))])\n",
    "\n",
    "        y_pred = model.predict(X)\n",
    "\n",
    "        # print(y_pred.shape)\n",
    "\n",
    "        y_pred_degrees = np_get_angle_from_double_sigmoids(y_pred) / np.pi * 180\n",
    "\n",
    "\n",
    "        # y_pred_angle = np.arctan2(y_pred[:, 0], y_pred[:, 1]) / math.pi * 180\n",
    "\n",
    "        plt.subplot(square_size, square_size, i + 1)\n",
    "        plot_image_from_path(fp.name + '.resized.jpg', float(y_pred_degrees[0]))"
   ],
   "metadata": {
    "collapsed": false,
    "pycharm": {
     "name": "#%%\n"
    }
   }
  },
  {
   "cell_type": "code",
   "execution_count": null,
   "metadata": {
    "pycharm": {
     "name": "#%%\n"
    }
   },
   "outputs": [],
   "source": []
  }
 ],
 "metadata": {
  "instance_type": "ml.g4dn.xlarge",
  "kernelspec": {
   "display_name": "Python 3 (xgboost/latest)",
   "language": "python",
   "name": "python3__SAGEMAKER_INTERNAL__arn:aws:sagemaker:eu-west-1:363538766736:image/xgboost"
  },
  "language_info": {
   "codemirror_mode": {
    "name": "ipython",
    "version": 3
   },
   "file_extension": ".py",
   "mimetype": "text/x-python",
   "name": "python",
   "nbconvert_exporter": "python",
   "pygments_lexer": "ipython3",
   "version": "3.8.10"
  }
 },
 "nbformat": 4,
 "nbformat_minor": 4
}